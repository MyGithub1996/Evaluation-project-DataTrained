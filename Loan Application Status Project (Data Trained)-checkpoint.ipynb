{
 "cells": [
  {
   "cell_type": "code",
   "execution_count": 59,
   "metadata": {},
   "outputs": [],
   "source": [
    "#loading dataframe libraries\n",
    "import pandas as pd\n",
    "#loading algebra libraries\n",
    "import numpy as np\n",
    "#loading visualization libraries\n",
    "import matplotlib.pyplot as plt\n",
    "%matplotlib inline\n",
    "import seaborn as sns\n",
    "#loading warnings\n",
    "import warnings\n",
    "warnings.filterwarnings(\"ignore\")"
   ]
  },
  {
   "cell_type": "code",
   "execution_count": 60,
   "metadata": {},
   "outputs": [],
   "source": [
    "#loading loan application dataset\n",
    "loan=pd.read_csv(\"loan_application_status.csv\")"
   ]
  },
  {
   "cell_type": "code",
   "execution_count": 61,
   "metadata": {},
   "outputs": [
    {
     "data": {
      "text/html": [
       "<div>\n",
       "<style scoped>\n",
       "    .dataframe tbody tr th:only-of-type {\n",
       "        vertical-align: middle;\n",
       "    }\n",
       "\n",
       "    .dataframe tbody tr th {\n",
       "        vertical-align: top;\n",
       "    }\n",
       "\n",
       "    .dataframe thead th {\n",
       "        text-align: right;\n",
       "    }\n",
       "</style>\n",
       "<table border=\"1\" class=\"dataframe\">\n",
       "  <thead>\n",
       "    <tr style=\"text-align: right;\">\n",
       "      <th></th>\n",
       "      <th>Loan_ID</th>\n",
       "      <th>Gender</th>\n",
       "      <th>Married</th>\n",
       "      <th>Dependents</th>\n",
       "      <th>Education</th>\n",
       "      <th>Self_Employed</th>\n",
       "      <th>ApplicantIncome</th>\n",
       "      <th>CoapplicantIncome</th>\n",
       "      <th>LoanAmount</th>\n",
       "      <th>Loan_Amount_Term</th>\n",
       "      <th>Credit_History</th>\n",
       "      <th>Property_Area</th>\n",
       "      <th>Loan_Status</th>\n",
       "    </tr>\n",
       "  </thead>\n",
       "  <tbody>\n",
       "    <tr>\n",
       "      <th>0</th>\n",
       "      <td>LP001002</td>\n",
       "      <td>Male</td>\n",
       "      <td>No</td>\n",
       "      <td>0</td>\n",
       "      <td>Graduate</td>\n",
       "      <td>No</td>\n",
       "      <td>5849</td>\n",
       "      <td>0.0</td>\n",
       "      <td>NaN</td>\n",
       "      <td>360.0</td>\n",
       "      <td>1.0</td>\n",
       "      <td>Urban</td>\n",
       "      <td>Y</td>\n",
       "    </tr>\n",
       "    <tr>\n",
       "      <th>1</th>\n",
       "      <td>LP001003</td>\n",
       "      <td>Male</td>\n",
       "      <td>Yes</td>\n",
       "      <td>1</td>\n",
       "      <td>Graduate</td>\n",
       "      <td>No</td>\n",
       "      <td>4583</td>\n",
       "      <td>1508.0</td>\n",
       "      <td>128.0</td>\n",
       "      <td>360.0</td>\n",
       "      <td>1.0</td>\n",
       "      <td>Rural</td>\n",
       "      <td>N</td>\n",
       "    </tr>\n",
       "    <tr>\n",
       "      <th>2</th>\n",
       "      <td>LP001005</td>\n",
       "      <td>Male</td>\n",
       "      <td>Yes</td>\n",
       "      <td>0</td>\n",
       "      <td>Graduate</td>\n",
       "      <td>Yes</td>\n",
       "      <td>3000</td>\n",
       "      <td>0.0</td>\n",
       "      <td>66.0</td>\n",
       "      <td>360.0</td>\n",
       "      <td>1.0</td>\n",
       "      <td>Urban</td>\n",
       "      <td>Y</td>\n",
       "    </tr>\n",
       "    <tr>\n",
       "      <th>3</th>\n",
       "      <td>LP001006</td>\n",
       "      <td>Male</td>\n",
       "      <td>Yes</td>\n",
       "      <td>0</td>\n",
       "      <td>Not Graduate</td>\n",
       "      <td>No</td>\n",
       "      <td>2583</td>\n",
       "      <td>2358.0</td>\n",
       "      <td>120.0</td>\n",
       "      <td>360.0</td>\n",
       "      <td>1.0</td>\n",
       "      <td>Urban</td>\n",
       "      <td>Y</td>\n",
       "    </tr>\n",
       "    <tr>\n",
       "      <th>4</th>\n",
       "      <td>LP001008</td>\n",
       "      <td>Male</td>\n",
       "      <td>No</td>\n",
       "      <td>0</td>\n",
       "      <td>Graduate</td>\n",
       "      <td>No</td>\n",
       "      <td>6000</td>\n",
       "      <td>0.0</td>\n",
       "      <td>141.0</td>\n",
       "      <td>360.0</td>\n",
       "      <td>1.0</td>\n",
       "      <td>Urban</td>\n",
       "      <td>Y</td>\n",
       "    </tr>\n",
       "    <tr>\n",
       "      <th>...</th>\n",
       "      <td>...</td>\n",
       "      <td>...</td>\n",
       "      <td>...</td>\n",
       "      <td>...</td>\n",
       "      <td>...</td>\n",
       "      <td>...</td>\n",
       "      <td>...</td>\n",
       "      <td>...</td>\n",
       "      <td>...</td>\n",
       "      <td>...</td>\n",
       "      <td>...</td>\n",
       "      <td>...</td>\n",
       "      <td>...</td>\n",
       "    </tr>\n",
       "    <tr>\n",
       "      <th>609</th>\n",
       "      <td>LP002978</td>\n",
       "      <td>Female</td>\n",
       "      <td>No</td>\n",
       "      <td>0</td>\n",
       "      <td>Graduate</td>\n",
       "      <td>No</td>\n",
       "      <td>2900</td>\n",
       "      <td>0.0</td>\n",
       "      <td>71.0</td>\n",
       "      <td>360.0</td>\n",
       "      <td>1.0</td>\n",
       "      <td>Rural</td>\n",
       "      <td>Y</td>\n",
       "    </tr>\n",
       "    <tr>\n",
       "      <th>610</th>\n",
       "      <td>LP002979</td>\n",
       "      <td>Male</td>\n",
       "      <td>Yes</td>\n",
       "      <td>3+</td>\n",
       "      <td>Graduate</td>\n",
       "      <td>No</td>\n",
       "      <td>4106</td>\n",
       "      <td>0.0</td>\n",
       "      <td>40.0</td>\n",
       "      <td>180.0</td>\n",
       "      <td>1.0</td>\n",
       "      <td>Rural</td>\n",
       "      <td>Y</td>\n",
       "    </tr>\n",
       "    <tr>\n",
       "      <th>611</th>\n",
       "      <td>LP002983</td>\n",
       "      <td>Male</td>\n",
       "      <td>Yes</td>\n",
       "      <td>1</td>\n",
       "      <td>Graduate</td>\n",
       "      <td>No</td>\n",
       "      <td>8072</td>\n",
       "      <td>240.0</td>\n",
       "      <td>253.0</td>\n",
       "      <td>360.0</td>\n",
       "      <td>1.0</td>\n",
       "      <td>Urban</td>\n",
       "      <td>Y</td>\n",
       "    </tr>\n",
       "    <tr>\n",
       "      <th>612</th>\n",
       "      <td>LP002984</td>\n",
       "      <td>Male</td>\n",
       "      <td>Yes</td>\n",
       "      <td>2</td>\n",
       "      <td>Graduate</td>\n",
       "      <td>No</td>\n",
       "      <td>7583</td>\n",
       "      <td>0.0</td>\n",
       "      <td>187.0</td>\n",
       "      <td>360.0</td>\n",
       "      <td>1.0</td>\n",
       "      <td>Urban</td>\n",
       "      <td>Y</td>\n",
       "    </tr>\n",
       "    <tr>\n",
       "      <th>613</th>\n",
       "      <td>LP002990</td>\n",
       "      <td>Female</td>\n",
       "      <td>No</td>\n",
       "      <td>0</td>\n",
       "      <td>Graduate</td>\n",
       "      <td>Yes</td>\n",
       "      <td>4583</td>\n",
       "      <td>0.0</td>\n",
       "      <td>133.0</td>\n",
       "      <td>360.0</td>\n",
       "      <td>0.0</td>\n",
       "      <td>Semiurban</td>\n",
       "      <td>N</td>\n",
       "    </tr>\n",
       "  </tbody>\n",
       "</table>\n",
       "<p>614 rows × 13 columns</p>\n",
       "</div>"
      ],
      "text/plain": [
       "      Loan_ID  Gender Married Dependents     Education Self_Employed  \\\n",
       "0    LP001002    Male      No          0      Graduate            No   \n",
       "1    LP001003    Male     Yes          1      Graduate            No   \n",
       "2    LP001005    Male     Yes          0      Graduate           Yes   \n",
       "3    LP001006    Male     Yes          0  Not Graduate            No   \n",
       "4    LP001008    Male      No          0      Graduate            No   \n",
       "..        ...     ...     ...        ...           ...           ...   \n",
       "609  LP002978  Female      No          0      Graduate            No   \n",
       "610  LP002979    Male     Yes         3+      Graduate            No   \n",
       "611  LP002983    Male     Yes          1      Graduate            No   \n",
       "612  LP002984    Male     Yes          2      Graduate            No   \n",
       "613  LP002990  Female      No          0      Graduate           Yes   \n",
       "\n",
       "     ApplicantIncome  CoapplicantIncome  LoanAmount  Loan_Amount_Term  \\\n",
       "0               5849                0.0         NaN             360.0   \n",
       "1               4583             1508.0       128.0             360.0   \n",
       "2               3000                0.0        66.0             360.0   \n",
       "3               2583             2358.0       120.0             360.0   \n",
       "4               6000                0.0       141.0             360.0   \n",
       "..               ...                ...         ...               ...   \n",
       "609             2900                0.0        71.0             360.0   \n",
       "610             4106                0.0        40.0             180.0   \n",
       "611             8072              240.0       253.0             360.0   \n",
       "612             7583                0.0       187.0             360.0   \n",
       "613             4583                0.0       133.0             360.0   \n",
       "\n",
       "     Credit_History Property_Area Loan_Status  \n",
       "0               1.0         Urban           Y  \n",
       "1               1.0         Rural           N  \n",
       "2               1.0         Urban           Y  \n",
       "3               1.0         Urban           Y  \n",
       "4               1.0         Urban           Y  \n",
       "..              ...           ...         ...  \n",
       "609             1.0         Rural           Y  \n",
       "610             1.0         Rural           Y  \n",
       "611             1.0         Urban           Y  \n",
       "612             1.0         Urban           Y  \n",
       "613             0.0     Semiurban           N  \n",
       "\n",
       "[614 rows x 13 columns]"
      ]
     },
     "execution_count": 61,
     "metadata": {},
     "output_type": "execute_result"
    }
   ],
   "source": [
    "loan"
   ]
  },
  {
   "cell_type": "code",
   "execution_count": 62,
   "metadata": {},
   "outputs": [
    {
     "data": {
      "text/plain": [
       "Index(['Loan_ID', 'Gender', 'Married', 'Dependents', 'Education',\n",
       "       'Self_Employed', 'ApplicantIncome', 'CoapplicantIncome', 'LoanAmount',\n",
       "       'Loan_Amount_Term', 'Credit_History', 'Property_Area', 'Loan_Status'],\n",
       "      dtype='object')"
      ]
     },
     "execution_count": 62,
     "metadata": {},
     "output_type": "execute_result"
    }
   ],
   "source": [
    "#checking the columns\n",
    "loan.columns"
   ]
  },
  {
   "cell_type": "code",
   "execution_count": 63,
   "metadata": {},
   "outputs": [
    {
     "data": {
      "text/html": [
       "<div>\n",
       "<style scoped>\n",
       "    .dataframe tbody tr th:only-of-type {\n",
       "        vertical-align: middle;\n",
       "    }\n",
       "\n",
       "    .dataframe tbody tr th {\n",
       "        vertical-align: top;\n",
       "    }\n",
       "\n",
       "    .dataframe thead th {\n",
       "        text-align: right;\n",
       "    }\n",
       "</style>\n",
       "<table border=\"1\" class=\"dataframe\">\n",
       "  <thead>\n",
       "    <tr style=\"text-align: right;\">\n",
       "      <th></th>\n",
       "      <th>Loan_ID</th>\n",
       "      <th>Gender</th>\n",
       "      <th>Married</th>\n",
       "      <th>Dependents</th>\n",
       "      <th>Education</th>\n",
       "      <th>Self_Employed</th>\n",
       "      <th>ApplicantIncome</th>\n",
       "      <th>CoapplicantIncome</th>\n",
       "      <th>LoanAmount</th>\n",
       "      <th>Loan_Amount_Term</th>\n",
       "      <th>Credit_History</th>\n",
       "      <th>Property_Area</th>\n",
       "      <th>Loan_Status</th>\n",
       "    </tr>\n",
       "  </thead>\n",
       "  <tbody>\n",
       "    <tr>\n",
       "      <th>0</th>\n",
       "      <td>LP001002</td>\n",
       "      <td>Male</td>\n",
       "      <td>No</td>\n",
       "      <td>0</td>\n",
       "      <td>Graduate</td>\n",
       "      <td>No</td>\n",
       "      <td>5849</td>\n",
       "      <td>0.0</td>\n",
       "      <td>NaN</td>\n",
       "      <td>360.0</td>\n",
       "      <td>1.0</td>\n",
       "      <td>Urban</td>\n",
       "      <td>Y</td>\n",
       "    </tr>\n",
       "    <tr>\n",
       "      <th>1</th>\n",
       "      <td>LP001003</td>\n",
       "      <td>Male</td>\n",
       "      <td>Yes</td>\n",
       "      <td>1</td>\n",
       "      <td>Graduate</td>\n",
       "      <td>No</td>\n",
       "      <td>4583</td>\n",
       "      <td>1508.0</td>\n",
       "      <td>128.0</td>\n",
       "      <td>360.0</td>\n",
       "      <td>1.0</td>\n",
       "      <td>Rural</td>\n",
       "      <td>N</td>\n",
       "    </tr>\n",
       "    <tr>\n",
       "      <th>2</th>\n",
       "      <td>LP001005</td>\n",
       "      <td>Male</td>\n",
       "      <td>Yes</td>\n",
       "      <td>0</td>\n",
       "      <td>Graduate</td>\n",
       "      <td>Yes</td>\n",
       "      <td>3000</td>\n",
       "      <td>0.0</td>\n",
       "      <td>66.0</td>\n",
       "      <td>360.0</td>\n",
       "      <td>1.0</td>\n",
       "      <td>Urban</td>\n",
       "      <td>Y</td>\n",
       "    </tr>\n",
       "    <tr>\n",
       "      <th>3</th>\n",
       "      <td>LP001006</td>\n",
       "      <td>Male</td>\n",
       "      <td>Yes</td>\n",
       "      <td>0</td>\n",
       "      <td>Not Graduate</td>\n",
       "      <td>No</td>\n",
       "      <td>2583</td>\n",
       "      <td>2358.0</td>\n",
       "      <td>120.0</td>\n",
       "      <td>360.0</td>\n",
       "      <td>1.0</td>\n",
       "      <td>Urban</td>\n",
       "      <td>Y</td>\n",
       "    </tr>\n",
       "    <tr>\n",
       "      <th>4</th>\n",
       "      <td>LP001008</td>\n",
       "      <td>Male</td>\n",
       "      <td>No</td>\n",
       "      <td>0</td>\n",
       "      <td>Graduate</td>\n",
       "      <td>No</td>\n",
       "      <td>6000</td>\n",
       "      <td>0.0</td>\n",
       "      <td>141.0</td>\n",
       "      <td>360.0</td>\n",
       "      <td>1.0</td>\n",
       "      <td>Urban</td>\n",
       "      <td>Y</td>\n",
       "    </tr>\n",
       "  </tbody>\n",
       "</table>\n",
       "</div>"
      ],
      "text/plain": [
       "    Loan_ID Gender Married Dependents     Education Self_Employed  \\\n",
       "0  LP001002   Male      No          0      Graduate            No   \n",
       "1  LP001003   Male     Yes          1      Graduate            No   \n",
       "2  LP001005   Male     Yes          0      Graduate           Yes   \n",
       "3  LP001006   Male     Yes          0  Not Graduate            No   \n",
       "4  LP001008   Male      No          0      Graduate            No   \n",
       "\n",
       "   ApplicantIncome  CoapplicantIncome  LoanAmount  Loan_Amount_Term  \\\n",
       "0             5849                0.0         NaN             360.0   \n",
       "1             4583             1508.0       128.0             360.0   \n",
       "2             3000                0.0        66.0             360.0   \n",
       "3             2583             2358.0       120.0             360.0   \n",
       "4             6000                0.0       141.0             360.0   \n",
       "\n",
       "   Credit_History Property_Area Loan_Status  \n",
       "0             1.0         Urban           Y  \n",
       "1             1.0         Rural           N  \n",
       "2             1.0         Urban           Y  \n",
       "3             1.0         Urban           Y  \n",
       "4             1.0         Urban           Y  "
      ]
     },
     "execution_count": 63,
     "metadata": {},
     "output_type": "execute_result"
    }
   ],
   "source": [
    "loan.head()"
   ]
  },
  {
   "cell_type": "code",
   "execution_count": 64,
   "metadata": {},
   "outputs": [
    {
     "data": {
      "text/plain": [
       "(614, 13)"
      ]
     },
     "execution_count": 64,
     "metadata": {},
     "output_type": "execute_result"
    }
   ],
   "source": [
    "#checking the shape\n",
    "loan.shape"
   ]
  },
  {
   "cell_type": "code",
   "execution_count": 65,
   "metadata": {},
   "outputs": [
    {
     "data": {
      "text/plain": [
       "Loan_ID               object\n",
       "Gender                object\n",
       "Married               object\n",
       "Dependents            object\n",
       "Education             object\n",
       "Self_Employed         object\n",
       "ApplicantIncome        int64\n",
       "CoapplicantIncome    float64\n",
       "LoanAmount           float64\n",
       "Loan_Amount_Term     float64\n",
       "Credit_History       float64\n",
       "Property_Area         object\n",
       "Loan_Status           object\n",
       "dtype: object"
      ]
     },
     "execution_count": 65,
     "metadata": {},
     "output_type": "execute_result"
    }
   ],
   "source": [
    "#checking datatypes\n",
    "loan.dtypes"
   ]
  },
  {
   "cell_type": "code",
   "execution_count": 66,
   "metadata": {},
   "outputs": [
    {
     "name": "stdout",
     "output_type": "stream",
     "text": [
      "<class 'pandas.core.frame.DataFrame'>\n",
      "RangeIndex: 614 entries, 0 to 613\n",
      "Data columns (total 13 columns):\n",
      " #   Column             Non-Null Count  Dtype  \n",
      "---  ------             --------------  -----  \n",
      " 0   Loan_ID            614 non-null    object \n",
      " 1   Gender             601 non-null    object \n",
      " 2   Married            611 non-null    object \n",
      " 3   Dependents         599 non-null    object \n",
      " 4   Education          614 non-null    object \n",
      " 5   Self_Employed      582 non-null    object \n",
      " 6   ApplicantIncome    614 non-null    int64  \n",
      " 7   CoapplicantIncome  614 non-null    float64\n",
      " 8   LoanAmount         592 non-null    float64\n",
      " 9   Loan_Amount_Term   600 non-null    float64\n",
      " 10  Credit_History     564 non-null    float64\n",
      " 11  Property_Area      614 non-null    object \n",
      " 12  Loan_Status        614 non-null    object \n",
      "dtypes: float64(4), int64(1), object(8)\n",
      "memory usage: 62.5+ KB\n"
     ]
    }
   ],
   "source": [
    "#checking dataset information\n",
    "loan.info()"
   ]
  },
  {
   "cell_type": "code",
   "execution_count": 67,
   "metadata": {},
   "outputs": [
    {
     "data": {
      "text/plain": [
       "True"
      ]
     },
     "execution_count": 67,
     "metadata": {},
     "output_type": "execute_result"
    }
   ],
   "source": [
    "#checking the missing value\n",
    "loan.isnull().values.any()"
   ]
  },
  {
   "cell_type": "code",
   "execution_count": 68,
   "metadata": {},
   "outputs": [
    {
     "data": {
      "text/plain": [
       "Loan_ID               0\n",
       "Gender               13\n",
       "Married               3\n",
       "Dependents           15\n",
       "Education             0\n",
       "Self_Employed        32\n",
       "ApplicantIncome       0\n",
       "CoapplicantIncome     0\n",
       "LoanAmount           22\n",
       "Loan_Amount_Term     14\n",
       "Credit_History       50\n",
       "Property_Area         0\n",
       "Loan_Status           0\n",
       "dtype: int64"
      ]
     },
     "execution_count": 68,
     "metadata": {},
     "output_type": "execute_result"
    }
   ],
   "source": [
    "loan.isnull().sum()"
   ]
  },
  {
   "cell_type": "code",
   "execution_count": 69,
   "metadata": {},
   "outputs": [
    {
     "data": {
      "text/plain": [
       "<AxesSubplot:>"
      ]
     },
     "execution_count": 69,
     "metadata": {},
     "output_type": "execute_result"
    },
    {
     "data": {
      "image/png": "[encoded data removed]",
      "text/plain": [
       "<Figure size 432x288 with 1 Axes>"
      ]
     },
     "metadata": {
      "needs_background": "light"
     },
     "output_type": "display_data"
    }
   ],
   "source": [
    "sns.heatmap(loan.isnull(),yticklabels=False,cbar=False)"
   ]
  },
  {
   "cell_type": "code",
   "execution_count": 70,
   "metadata": {},
   "outputs": [],
   "source": [
    "#Imputing the missing value with mode\n",
    "for col in['Gender','Married','Dependents','Self_Employed']:\n",
    "    loan[col].fillna(loan[col].mode()[0],inplace=True)"
   ]
  },
  {
   "cell_type": "code",
   "execution_count": 71,
   "metadata": {},
   "outputs": [
    {
     "data": {
      "text/plain": [
       "Loan_ID               0\n",
       "Gender                0\n",
       "Married               0\n",
       "Dependents            0\n",
       "Education             0\n",
       "Self_Employed         0\n",
       "ApplicantIncome       0\n",
       "CoapplicantIncome     0\n",
       "LoanAmount           22\n",
       "Loan_Amount_Term     14\n",
       "Credit_History       50\n",
       "Property_Area         0\n",
       "Loan_Status           0\n",
       "dtype: int64"
      ]
     },
     "execution_count": 71,
     "metadata": {},
     "output_type": "execute_result"
    }
   ],
   "source": [
    "loan.isnull().sum()"
   ]
  },
  {
   "cell_type": "code",
   "execution_count": 72,
   "metadata": {},
   "outputs": [],
   "source": [
    "#imputing value in numeric data\n",
    "loan['LoanAmount'].fillna(loan['LoanAmount'].mean(),inplace=True)\n",
    "loan['Loan_Amount_Term'].fillna(loan['Loan_Amount_Term'].median(),inplace=True)\n",
    "loan['Credit_History'].fillna(loan['Credit_History'].mean(),inplace=True)"
   ]
  },
  {
   "cell_type": "code",
   "execution_count": 73,
   "metadata": {},
   "outputs": [
    {
     "data": {
      "text/plain": [
       "Loan_ID              0\n",
       "Gender               0\n",
       "Married              0\n",
       "Dependents           0\n",
       "Education            0\n",
       "Self_Employed        0\n",
       "ApplicantIncome      0\n",
       "CoapplicantIncome    0\n",
       "LoanAmount           0\n",
       "Loan_Amount_Term     0\n",
       "Credit_History       0\n",
       "Property_Area        0\n",
       "Loan_Status          0\n",
       "dtype: int64"
      ]
     },
     "execution_count": 73,
     "metadata": {},
     "output_type": "execute_result"
    }
   ],
   "source": [
    "loan.isnull().sum()"
   ]
  },
  {
   "cell_type": "markdown",
   "metadata": {},
   "source": [
    "### Exploratory Data Variable"
   ]
  },
  {
   "cell_type": "code",
   "execution_count": 74,
   "metadata": {},
   "outputs": [
    {
     "name": "stdout",
     "output_type": "stream",
     "text": [
      "Loan_ID : ['LP001002' 'LP001003' 'LP001005' 'LP001006' 'LP001008' 'LP001011'\n",
      " 'LP001013' 'LP001014' 'LP001018' 'LP001020' 'LP001024' 'LP001027'\n",
      " 'LP001028' 'LP001029' 'LP001030' 'LP001032' 'LP001034' 'LP001036'\n",
      " 'LP001038' 'LP001041' 'LP001043' 'LP001046' 'LP001047' 'LP001050'\n",
      " 'LP001052' 'LP001066' 'LP001068' 'LP001073' 'LP001086' 'LP001087'\n",
      " 'LP001091' 'LP001095' 'LP001097' 'LP001098' 'LP001100' 'LP001106'\n",
      " 'LP001109' 'LP001112' 'LP001114' 'LP001116' 'LP001119' 'LP001120'\n",
      " 'LP001123' 'LP001131' 'LP001136' 'LP001137' 'LP001138' 'LP001144'\n",
      " 'LP001146' 'LP001151' 'LP001155' 'LP001157' 'LP001164' 'LP001179'\n",
      " 'LP001186' 'LP001194' 'LP001195' 'LP001197' 'LP001198' 'LP001199'\n",
      " 'LP001205' 'LP001206' 'LP001207' 'LP001213' 'LP001222' 'LP001225'\n",
      " 'LP001228' 'LP001233' 'LP001238' 'LP001241' 'LP001243' 'LP001245'\n",
      " 'LP001248' 'LP001250' 'LP001253' 'LP001255' 'LP001256' 'LP001259'\n",
      " 'LP001263' 'LP001264' 'LP001265' 'LP001266' 'LP001267' 'LP001273'\n",
      " 'LP001275' 'LP001279' 'LP001280' 'LP001282' 'LP001289' 'LP001310'\n",
      " 'LP001316' 'LP001318' 'LP001319' 'LP001322' 'LP001325' 'LP001326'\n",
      " 'LP001327' 'LP001333' 'LP001334' 'LP001343' 'LP001345' 'LP001349'\n",
      " 'LP001350' 'LP001356' 'LP001357' 'LP001367' 'LP001369' 'LP001370'\n",
      " 'LP001379' 'LP001384' 'LP001385' 'LP001387' 'LP001391' 'LP001392'\n",
      " 'LP001398' 'LP001401' 'LP001404' 'LP001405' 'LP001421' 'LP001422'\n",
      " 'LP001426' 'LP001430' 'LP001431' 'LP001432' 'LP001439' 'LP001443'\n",
      " 'LP001448' 'LP001449' 'LP001451' 'LP001465' 'LP001469' 'LP001473'\n",
      " 'LP001478' 'LP001482' 'LP001487' 'LP001488' 'LP001489' 'LP001491'\n",
      " 'LP001492' 'LP001493' 'LP001497' 'LP001498' 'LP001504' 'LP001507'\n",
      " 'LP001508' 'LP001514' 'LP001516' 'LP001518' 'LP001519' 'LP001520'\n",
      " 'LP001528' 'LP001529' 'LP001531' 'LP001532' 'LP001535' 'LP001536'\n",
      " 'LP001541' 'LP001543' 'LP001546' 'LP001552' 'LP001560' 'LP001562'\n",
      " 'LP001565' 'LP001570' 'LP001572' 'LP001574' 'LP001577' 'LP001578'\n",
      " 'LP001579' 'LP001580' 'LP001581' 'LP001585' 'LP001586' 'LP001594'\n",
      " 'LP001603' 'LP001606' 'LP001608' 'LP001610' 'LP001616' 'LP001630'\n",
      " 'LP001633' 'LP001634' 'LP001636' 'LP001637' 'LP001639' 'LP001640'\n",
      " 'LP001641' 'LP001643' 'LP001644' 'LP001647' 'LP001653' 'LP001656'\n",
      " 'LP001657' 'LP001658' 'LP001664' 'LP001665' 'LP001666' 'LP001669'\n",
      " 'LP001671' 'LP001673' 'LP001674' 'LP001677' 'LP001682' 'LP001688'\n",
      " 'LP001691' 'LP001692' 'LP001693' 'LP001698' 'LP001699' 'LP001702'\n",
      " 'LP001708' 'LP001711' 'LP001713' 'LP001715' 'LP001716' 'LP001720'\n",
      " 'LP001722' 'LP001726' 'LP001732' 'LP001734' 'LP001736' 'LP001743'\n",
      " 'LP001744' 'LP001749' 'LP001750' 'LP001751' 'LP001754' 'LP001758'\n",
      " 'LP001760' 'LP001761' 'LP001765' 'LP001768' 'LP001770' 'LP001776'\n",
      " 'LP001778' 'LP001784' 'LP001786' 'LP001788' 'LP001790' 'LP001792'\n",
      " 'LP001798' 'LP001800' 'LP001806' 'LP001807' 'LP001811' 'LP001813'\n",
      " 'LP001814' 'LP001819' 'LP001824' 'LP001825' 'LP001835' 'LP001836'\n",
      " 'LP001841' 'LP001843' 'LP001844' 'LP001846' 'LP001849' 'LP001854'\n",
      " 'LP001859' 'LP001864' 'LP001865' 'LP001868' 'LP001870' 'LP001871'\n",
      " 'LP001872' 'LP001875' 'LP001877' 'LP001882' 'LP001883' 'LP001884'\n",
      " 'LP001888' 'LP001891' 'LP001892' 'LP001894' 'LP001896' 'LP001900'\n",
      " 'LP001903' 'LP001904' 'LP001907' 'LP001908' 'LP001910' 'LP001914'\n",
      " 'LP001915' 'LP001917' 'LP001922' 'LP001924' 'LP001925' 'LP001926'\n",
      " 'LP001931' 'LP001935' 'LP001936' 'LP001938' 'LP001940' 'LP001945'\n",
      " 'LP001947' 'LP001949' 'LP001953' 'LP001954' 'LP001955' 'LP001963'\n",
      " 'LP001964' 'LP001972' 'LP001974' 'LP001977' 'LP001978' 'LP001990'\n",
      " 'LP001993' 'LP001994' 'LP001996' 'LP001998' 'LP002002' 'LP002004'\n",
      " 'LP002006' 'LP002008' 'LP002024' 'LP002031' 'LP002035' 'LP002036'\n",
      " 'LP002043' 'LP002050' 'LP002051' 'LP002053' 'LP002054' 'LP002055'\n",
      " 'LP002065' 'LP002067' 'LP002068' 'LP002082' 'LP002086' 'LP002087'\n",
      " 'LP002097' 'LP002098' 'LP002100' 'LP002101' 'LP002103' 'LP002106'\n",
      " 'LP002110' 'LP002112' 'LP002113' 'LP002114' 'LP002115' 'LP002116'\n",
      " 'LP002119' 'LP002126' 'LP002128' 'LP002129' 'LP002130' 'LP002131'\n",
      " 'LP002137' 'LP002138' 'LP002139' 'LP002140' 'LP002141' 'LP002142'\n",
      " 'LP002143' 'LP002144' 'LP002149' 'LP002151' 'LP002158' 'LP002160'\n",
      " 'LP002161' 'LP002170' 'LP002175' 'LP002178' 'LP002180' 'LP002181'\n",
      " 'LP002187' 'LP002188' 'LP002190' 'LP002191' 'LP002194' 'LP002197'\n",
      " 'LP002201' 'LP002205' 'LP002209' 'LP002211' 'LP002219' 'LP002223'\n",
      " 'LP002224' 'LP002225' 'LP002226' 'LP002229' 'LP002231' 'LP002234'\n",
      " 'LP002236' 'LP002237' 'LP002239' 'LP002243' 'LP002244' 'LP002250'\n",
      " 'LP002255' 'LP002262' 'LP002263' 'LP002265' 'LP002266' 'LP002272'\n",
      " 'LP002277' 'LP002281' 'LP002284' 'LP002287' 'LP002288' 'LP002296'\n",
      " 'LP002297' 'LP002300' 'LP002301' 'LP002305' 'LP002308' 'LP002314'\n",
      " 'LP002315' 'LP002317' 'LP002318' 'LP002319' 'LP002328' 'LP002332'\n",
      " 'LP002335' 'LP002337' 'LP002341' 'LP002342' 'LP002345' 'LP002347'\n",
      " 'LP002348' 'LP002357' 'LP002361' 'LP002362' 'LP002364' 'LP002366'\n",
      " 'LP002367' 'LP002368' 'LP002369' 'LP002370' 'LP002377' 'LP002379'\n",
      " 'LP002386' 'LP002387' 'LP002390' 'LP002393' 'LP002398' 'LP002401'\n",
      " 'LP002403' 'LP002407' 'LP002408' 'LP002409' 'LP002418' 'LP002422'\n",
      " 'LP002424' 'LP002429' 'LP002434' 'LP002435' 'LP002443' 'LP002444'\n",
      " 'LP002446' 'LP002447' 'LP002448' 'LP002449' 'LP002453' 'LP002455'\n",
      " 'LP002459' 'LP002467' 'LP002472' 'LP002473' 'LP002478' 'LP002484'\n",
      " 'LP002487' 'LP002489' 'LP002493' 'LP002494' 'LP002500' 'LP002501'\n",
      " 'LP002502' 'LP002505' 'LP002515' 'LP002517' 'LP002519' 'LP002522'\n",
      " 'LP002524' 'LP002527' 'LP002529' 'LP002530' 'LP002531' 'LP002533'\n",
      " 'LP002534' 'LP002536' 'LP002537' 'LP002541' 'LP002543' 'LP002544'\n",
      " 'LP002545' 'LP002547' 'LP002555' 'LP002556' 'LP002560' 'LP002562'\n",
      " 'LP002571' 'LP002582' 'LP002585' 'LP002586' 'LP002587' 'LP002588'\n",
      " 'LP002600' 'LP002602' 'LP002603' 'LP002606' 'LP002615' 'LP002618'\n",
      " 'LP002619' 'LP002622' 'LP002624' 'LP002625' 'LP002626' 'LP002634'\n",
      " 'LP002637' 'LP002640' 'LP002643' 'LP002648' 'LP002652' 'LP002659'\n",
      " 'LP002670' 'LP002682' 'LP002683' 'LP002684' 'LP002689' 'LP002690'\n",
      " 'LP002692' 'LP002693' 'LP002697' 'LP002699' 'LP002705' 'LP002706'\n",
      " 'LP002714' 'LP002716' 'LP002717' 'LP002720' 'LP002723' 'LP002729'\n",
      " 'LP002731' 'LP002732' 'LP002734' 'LP002738' 'LP002739' 'LP002740'\n",
      " 'LP002741' 'LP002743' 'LP002753' 'LP002755' 'LP002757' 'LP002767'\n",
      " 'LP002768' 'LP002772' 'LP002776' 'LP002777' 'LP002778' 'LP002784'\n",
      " 'LP002785' 'LP002788' 'LP002789' 'LP002792' 'LP002794' 'LP002795'\n",
      " 'LP002798' 'LP002804' 'LP002807' 'LP002813' 'LP002820' 'LP002821'\n",
      " 'LP002832' 'LP002833' 'LP002836' 'LP002837' 'LP002840' 'LP002841'\n",
      " 'LP002842' 'LP002847' 'LP002855' 'LP002862' 'LP002863' 'LP002868'\n",
      " 'LP002872' 'LP002874' 'LP002877' 'LP002888' 'LP002892' 'LP002893'\n",
      " 'LP002894' 'LP002898' 'LP002911' 'LP002912' 'LP002916' 'LP002917'\n",
      " 'LP002925' 'LP002926' 'LP002928' 'LP002931' 'LP002933' 'LP002936'\n",
      " 'LP002938' 'LP002940' 'LP002941' 'LP002943' 'LP002945' 'LP002948'\n",
      " 'LP002949' 'LP002950' 'LP002953' 'LP002958' 'LP002959' 'LP002960'\n",
      " 'LP002961' 'LP002964' 'LP002974' 'LP002978' 'LP002979' 'LP002983'\n",
      " 'LP002984' 'LP002990']\n",
      "LP001658    1\n",
      "LP002689    1\n",
      "LP001671    1\n",
      "LP002187    1\n",
      "LP001279    1\n",
      "           ..\n",
      "LP002098    1\n",
      "LP002544    1\n",
      "LP002328    1\n",
      "LP001562    1\n",
      "LP002772    1\n",
      "Name: Loan_ID, Length: 614, dtype: int64\n",
      "******************************************************************************\n",
      "/n\n",
      "Gender : ['Male' 'Female']\n",
      "Male      502\n",
      "Female    112\n",
      "Name: Gender, dtype: int64\n",
      "******************************************************************************\n",
      "/n\n",
      "Married : ['No' 'Yes']\n",
      "Yes    401\n",
      "No     213\n",
      "Name: Married, dtype: int64\n",
      "******************************************************************************\n",
      "/n\n",
      "Dependents : ['0' '1' '2' '3+']\n",
      "0     360\n",
      "1     102\n",
      "2     101\n",
      "3+     51\n",
      "Name: Dependents, dtype: int64\n",
      "******************************************************************************\n",
      "/n\n",
      "Education : ['Graduate' 'Not Graduate']\n",
      "Graduate        480\n",
      "Not Graduate    134\n",
      "Name: Education, dtype: int64\n",
      "******************************************************************************\n",
      "/n\n",
      "Self_Employed : ['No' 'Yes']\n",
      "No     532\n",
      "Yes     82\n",
      "Name: Self_Employed, dtype: int64\n",
      "******************************************************************************\n",
      "/n\n",
      "Property_Area : ['Urban' 'Rural' 'Semiurban']\n",
      "Semiurban    233\n",
      "Urban        202\n",
      "Rural        179\n",
      "Name: Property_Area, dtype: int64\n",
      "******************************************************************************\n",
      "/n\n",
      "Loan_Status : ['Y' 'N']\n",
      "Y    422\n",
      "N    192\n",
      "Name: Loan_Status, dtype: int64\n",
      "******************************************************************************\n",
      "/n\n"
     ]
    }
   ],
   "source": [
    "#printing there object type and their unique code\n",
    "for column in loan.columns:\n",
    "    if loan[column].dtypes==object:\n",
    "        print(str(column)+\" : \" +str(loan[column].unique()))\n",
    "        print(loan[column].value_counts())\n",
    "        print('******************************************************************************')\n",
    "        print('/n')"
   ]
  },
  {
   "cell_type": "code",
   "execution_count": 75,
   "metadata": {},
   "outputs": [
    {
     "name": "stdout",
     "output_type": "stream",
     "text": [
      "['Male' 'Female']\n"
     ]
    }
   ],
   "source": [
    "print(loan['Gender'].unique())"
   ]
  },
  {
   "cell_type": "code",
   "execution_count": 76,
   "metadata": {},
   "outputs": [
    {
     "name": "stdout",
     "output_type": "stream",
     "text": [
      "['Y' 'N']\n"
     ]
    }
   ],
   "source": [
    "print(loan['Loan_Status'].unique())"
   ]
  },
  {
   "cell_type": "code",
   "execution_count": 77,
   "metadata": {},
   "outputs": [
    {
     "name": "stdout",
     "output_type": "stream",
     "text": [
      "Male      502\n",
      "Female    112\n",
      "Name: Gender, dtype: int64\n"
     ]
    }
   ],
   "source": [
    "print(loan['Gender'].value_counts())"
   ]
  },
  {
   "cell_type": "code",
   "execution_count": 78,
   "metadata": {},
   "outputs": [
    {
     "data": {
      "text/plain": [
       "dtype('int64')"
      ]
     },
     "execution_count": 78,
     "metadata": {},
     "output_type": "execute_result"
    }
   ],
   "source": [
    "loan['Loan_Status']=loan['Loan_Status'].map({'N':0,'Y':1})\n",
    "loan['Loan_Status'].dtypes"
   ]
  },
  {
   "cell_type": "code",
   "execution_count": 79,
   "metadata": {},
   "outputs": [
    {
     "data": {
      "text/html": [
       "<div>\n",
       "<style scoped>\n",
       "    .dataframe tbody tr th:only-of-type {\n",
       "        vertical-align: middle;\n",
       "    }\n",
       "\n",
       "    .dataframe tbody tr th {\n",
       "        vertical-align: top;\n",
       "    }\n",
       "\n",
       "    .dataframe thead th {\n",
       "        text-align: right;\n",
       "    }\n",
       "</style>\n",
       "<table border=\"1\" class=\"dataframe\">\n",
       "  <thead>\n",
       "    <tr style=\"text-align: right;\">\n",
       "      <th></th>\n",
       "      <th>ApplicantIncome</th>\n",
       "      <th>CoapplicantIncome</th>\n",
       "      <th>LoanAmount</th>\n",
       "      <th>Loan_Amount_Term</th>\n",
       "      <th>Credit_History</th>\n",
       "      <th>Loan_Status</th>\n",
       "    </tr>\n",
       "  </thead>\n",
       "  <tbody>\n",
       "    <tr>\n",
       "      <th>count</th>\n",
       "      <td>614.000000</td>\n",
       "      <td>614.000000</td>\n",
       "      <td>614.000000</td>\n",
       "      <td>614.000000</td>\n",
       "      <td>614.000000</td>\n",
       "      <td>614.000000</td>\n",
       "    </tr>\n",
       "    <tr>\n",
       "      <th>mean</th>\n",
       "      <td>5403.459283</td>\n",
       "      <td>1621.245798</td>\n",
       "      <td>146.412162</td>\n",
       "      <td>342.410423</td>\n",
       "      <td>0.842199</td>\n",
       "      <td>0.687296</td>\n",
       "    </tr>\n",
       "    <tr>\n",
       "      <th>std</th>\n",
       "      <td>6109.041673</td>\n",
       "      <td>2926.248369</td>\n",
       "      <td>84.037468</td>\n",
       "      <td>64.428629</td>\n",
       "      <td>0.349681</td>\n",
       "      <td>0.463973</td>\n",
       "    </tr>\n",
       "    <tr>\n",
       "      <th>min</th>\n",
       "      <td>150.000000</td>\n",
       "      <td>0.000000</td>\n",
       "      <td>9.000000</td>\n",
       "      <td>12.000000</td>\n",
       "      <td>0.000000</td>\n",
       "      <td>0.000000</td>\n",
       "    </tr>\n",
       "    <tr>\n",
       "      <th>25%</th>\n",
       "      <td>2877.500000</td>\n",
       "      <td>0.000000</td>\n",
       "      <td>100.250000</td>\n",
       "      <td>360.000000</td>\n",
       "      <td>1.000000</td>\n",
       "      <td>0.000000</td>\n",
       "    </tr>\n",
       "    <tr>\n",
       "      <th>50%</th>\n",
       "      <td>3812.500000</td>\n",
       "      <td>1188.500000</td>\n",
       "      <td>129.000000</td>\n",
       "      <td>360.000000</td>\n",
       "      <td>1.000000</td>\n",
       "      <td>1.000000</td>\n",
       "    </tr>\n",
       "    <tr>\n",
       "      <th>75%</th>\n",
       "      <td>5795.000000</td>\n",
       "      <td>2297.250000</td>\n",
       "      <td>164.750000</td>\n",
       "      <td>360.000000</td>\n",
       "      <td>1.000000</td>\n",
       "      <td>1.000000</td>\n",
       "    </tr>\n",
       "    <tr>\n",
       "      <th>max</th>\n",
       "      <td>81000.000000</td>\n",
       "      <td>41667.000000</td>\n",
       "      <td>700.000000</td>\n",
       "      <td>480.000000</td>\n",
       "      <td>1.000000</td>\n",
       "      <td>1.000000</td>\n",
       "    </tr>\n",
       "  </tbody>\n",
       "</table>\n",
       "</div>"
      ],
      "text/plain": [
       "       ApplicantIncome  CoapplicantIncome  LoanAmount  Loan_Amount_Term  \\\n",
       "count       614.000000         614.000000  614.000000        614.000000   \n",
       "mean       5403.459283        1621.245798  146.412162        342.410423   \n",
       "std        6109.041673        2926.248369   84.037468         64.428629   \n",
       "min         150.000000           0.000000    9.000000         12.000000   \n",
       "25%        2877.500000           0.000000  100.250000        360.000000   \n",
       "50%        3812.500000        1188.500000  129.000000        360.000000   \n",
       "75%        5795.000000        2297.250000  164.750000        360.000000   \n",
       "max       81000.000000       41667.000000  700.000000        480.000000   \n",
       "\n",
       "       Credit_History  Loan_Status  \n",
       "count      614.000000   614.000000  \n",
       "mean         0.842199     0.687296  \n",
       "std          0.349681     0.463973  \n",
       "min          0.000000     0.000000  \n",
       "25%          1.000000     0.000000  \n",
       "50%          1.000000     1.000000  \n",
       "75%          1.000000     1.000000  \n",
       "max          1.000000     1.000000  "
      ]
     },
     "execution_count": 79,
     "metadata": {},
     "output_type": "execute_result"
    }
   ],
   "source": [
    "loan.describe()"
   ]
  },
  {
   "cell_type": "markdown",
   "metadata": {},
   "source": [
    "### To check corelation"
   ]
  },
  {
   "cell_type": "code",
   "execution_count": 80,
   "metadata": {},
   "outputs": [],
   "source": [
    "corr=loan.corr()"
   ]
  },
  {
   "cell_type": "code",
   "execution_count": 81,
   "metadata": {},
   "outputs": [
    {
     "data": {
      "text/html": [
       "<div>\n",
       "<style scoped>\n",
       "    .dataframe tbody tr th:only-of-type {\n",
       "        vertical-align: middle;\n",
       "    }\n",
       "\n",
       "    .dataframe tbody tr th {\n",
       "        vertical-align: top;\n",
       "    }\n",
       "\n",
       "    .dataframe thead th {\n",
       "        text-align: right;\n",
       "    }\n",
       "</style>\n",
       "<table border=\"1\" class=\"dataframe\">\n",
       "  <thead>\n",
       "    <tr style=\"text-align: right;\">\n",
       "      <th></th>\n",
       "      <th>ApplicantIncome</th>\n",
       "      <th>CoapplicantIncome</th>\n",
       "      <th>LoanAmount</th>\n",
       "      <th>Loan_Amount_Term</th>\n",
       "      <th>Credit_History</th>\n",
       "      <th>Loan_Status</th>\n",
       "    </tr>\n",
       "  </thead>\n",
       "  <tbody>\n",
       "    <tr>\n",
       "      <th>ApplicantIncome</th>\n",
       "      <td>1.000000</td>\n",
       "      <td>-0.116605</td>\n",
       "      <td>0.565620</td>\n",
       "      <td>-0.046531</td>\n",
       "      <td>-0.014477</td>\n",
       "      <td>-0.004710</td>\n",
       "    </tr>\n",
       "    <tr>\n",
       "      <th>CoapplicantIncome</th>\n",
       "      <td>-0.116605</td>\n",
       "      <td>1.000000</td>\n",
       "      <td>0.187828</td>\n",
       "      <td>-0.059383</td>\n",
       "      <td>-0.001665</td>\n",
       "      <td>-0.059187</td>\n",
       "    </tr>\n",
       "    <tr>\n",
       "      <th>LoanAmount</th>\n",
       "      <td>0.565620</td>\n",
       "      <td>0.187828</td>\n",
       "      <td>1.000000</td>\n",
       "      <td>0.036475</td>\n",
       "      <td>-0.007738</td>\n",
       "      <td>-0.036416</td>\n",
       "    </tr>\n",
       "    <tr>\n",
       "      <th>Loan_Amount_Term</th>\n",
       "      <td>-0.046531</td>\n",
       "      <td>-0.059383</td>\n",
       "      <td>0.036475</td>\n",
       "      <td>1.000000</td>\n",
       "      <td>-0.003546</td>\n",
       "      <td>-0.022549</td>\n",
       "    </tr>\n",
       "    <tr>\n",
       "      <th>Credit_History</th>\n",
       "      <td>-0.014477</td>\n",
       "      <td>-0.001665</td>\n",
       "      <td>-0.007738</td>\n",
       "      <td>-0.003546</td>\n",
       "      <td>1.000000</td>\n",
       "      <td>0.540483</td>\n",
       "    </tr>\n",
       "    <tr>\n",
       "      <th>Loan_Status</th>\n",
       "      <td>-0.004710</td>\n",
       "      <td>-0.059187</td>\n",
       "      <td>-0.036416</td>\n",
       "      <td>-0.022549</td>\n",
       "      <td>0.540483</td>\n",
       "      <td>1.000000</td>\n",
       "    </tr>\n",
       "  </tbody>\n",
       "</table>\n",
       "</div>"
      ],
      "text/plain": [
       "                   ApplicantIncome  CoapplicantIncome  LoanAmount  \\\n",
       "ApplicantIncome           1.000000          -0.116605    0.565620   \n",
       "CoapplicantIncome        -0.116605           1.000000    0.187828   \n",
       "LoanAmount                0.565620           0.187828    1.000000   \n",
       "Loan_Amount_Term         -0.046531          -0.059383    0.036475   \n",
       "Credit_History           -0.014477          -0.001665   -0.007738   \n",
       "Loan_Status              -0.004710          -0.059187   -0.036416   \n",
       "\n",
       "                   Loan_Amount_Term  Credit_History  Loan_Status  \n",
       "ApplicantIncome           -0.046531       -0.014477    -0.004710  \n",
       "CoapplicantIncome         -0.059383       -0.001665    -0.059187  \n",
       "LoanAmount                 0.036475       -0.007738    -0.036416  \n",
       "Loan_Amount_Term           1.000000       -0.003546    -0.022549  \n",
       "Credit_History            -0.003546        1.000000     0.540483  \n",
       "Loan_Status               -0.022549        0.540483     1.000000  "
      ]
     },
     "execution_count": 81,
     "metadata": {},
     "output_type": "execute_result"
    }
   ],
   "source": [
    "corr"
   ]
  },
  {
   "cell_type": "code",
   "execution_count": 82,
   "metadata": {},
   "outputs": [
    {
     "data": {
      "text/plain": [
       "<AxesSubplot:>"
      ]
     },
     "execution_count": 82,
     "metadata": {},
     "output_type": "execute_result"
    },
    {
     "data": {
      "image/png": "[encoded data removed]",
      "text/plain": [
       "<Figure size 504x360 with 2 Axes>"
      ]
     },
     "metadata": {
      "needs_background": "light"
     },
     "output_type": "display_data"
    }
   ],
   "source": [
    "#corelation via heatmap\n",
    "plt.figure(figsize=(7,5))\n",
    "sns.heatmap(corr,annot=True,fmt='.0%',cmap='Blues')"
   ]
  },
  {
   "cell_type": "code",
   "execution_count": 83,
   "metadata": {},
   "outputs": [
    {
     "data": {
      "image/png": "[encoded data removed]",
      "text/plain": [
       "<Figure size 360x288 with 1 Axes>"
      ]
     },
     "metadata": {
      "needs_background": "light"
     },
     "output_type": "display_data"
    }
   ],
   "source": [
    "#checking the corelation with target variable\n",
    "plt.figure(figsize=(5,4))\n",
    "loan.drop('Loan_Status',axis=1).corrwith(loan['Loan_Status']).plot(kind='bar',grid=True)\n",
    "plt.xticks(rotation=20)\n",
    "plt.title('Corelation with target variable')\n",
    "plt.show()"
   ]
  },
  {
   "cell_type": "markdown",
   "metadata": {},
   "source": [
    "Observation-credit history is positivly related with loan status"
   ]
  },
  {
   "cell_type": "markdown",
   "metadata": {},
   "source": [
    "### Univariate Analysis"
   ]
  },
  {
   "cell_type": "code",
   "execution_count": 84,
   "metadata": {},
   "outputs": [
    {
     "data": {
      "image/png": "[encoded data removed]",
      "text/plain": [
       "<Figure size 432x288 with 1 Axes>"
      ]
     },
     "metadata": {
      "needs_background": "light"
     },
     "output_type": "display_data"
    },
    {
     "name": "stdout",
     "output_type": "stream",
     "text": [
      "1    422\n",
      "0    192\n",
      "Name: Loan_Status, dtype: int64\n"
     ]
    }
   ],
   "source": [
    "plt.subplots(figsize=(6,4))\n",
    "sns.countplot(x='Loan_Status',data=loan)\n",
    "plt.title('Loan Section to people')\n",
    "plt.xlabel('0-NO and 1-YES')\n",
    "plt.ylabel('count')\n",
    "plt.show()\n",
    "print(loan.Loan_Status.value_counts())"
   ]
  },
  {
   "cell_type": "markdown",
   "metadata": {},
   "source": [
    "Observation-422 people are applicable for loan and 192 people are not applicable for loan. "
   ]
  },
  {
   "cell_type": "code",
   "execution_count": 85,
   "metadata": {},
   "outputs": [
    {
     "data": {
      "image/png": "[encoded data removed]",
      "text/plain": [
       "<Figure size 432x288 with 1 Axes>"
      ]
     },
     "metadata": {
      "needs_background": "light"
     },
     "output_type": "display_data"
    },
    {
     "name": "stdout",
     "output_type": "stream",
     "text": [
      "Male      502\n",
      "Female    112\n",
      "Name: Gender, dtype: int64\n"
     ]
    }
   ],
   "source": [
    "plt.subplots(figsize=(6,4))\n",
    "sns.countplot(x='Gender',data=loan)\n",
    "plt.title('No. of Male and Female')\n",
    "plt.show()\n",
    "print(loan.Gender.value_counts())"
   ]
  },
  {
   "cell_type": "markdown",
   "metadata": {},
   "source": [
    "Observation- Total number of male applicant is 502 and total number of female applicant is 112"
   ]
  },
  {
   "cell_type": "code",
   "execution_count": 86,
   "metadata": {},
   "outputs": [
    {
     "data": {
      "image/png": "[encoded data removed]",
      "text/plain": [
       "<Figure size 432x288 with 1 Axes>"
      ]
     },
     "metadata": {
      "needs_background": "light"
     },
     "output_type": "display_data"
    },
    {
     "name": "stdout",
     "output_type": "stream",
     "text": [
      "1    422\n",
      "0    192\n",
      "Name: Loan_Status, dtype: int64\n"
     ]
    }
   ],
   "source": [
    "plt.subplots(figsize=(6,4))\n",
    "sns.countplot(x='Married',data=loan)\n",
    "plt.title('Marital status of people')\n",
    "plt.xlabel('Marital Status')\n",
    "plt.ylabel('count')\n",
    "plt.show()\n",
    "print(loan.Loan_Status.value_counts())"
   ]
  },
  {
   "cell_type": "markdown",
   "metadata": {},
   "source": [
    "Observation-total number of people married is 422 and unmarried is 192"
   ]
  },
  {
   "cell_type": "markdown",
   "metadata": {},
   "source": [
    "### Bivariate Analysis"
   ]
  },
  {
   "cell_type": "code",
   "execution_count": 87,
   "metadata": {},
   "outputs": [
    {
     "data": {
      "image/png": "[encoded data removed]",
      "text/plain": [
       "<Figure size 432x288 with 1 Axes>"
      ]
     },
     "metadata": {
      "needs_background": "light"
     },
     "output_type": "display_data"
    },
    {
     "name": "stdout",
     "output_type": "stream",
     "text": [
      "Gender  Loan_Status\n",
      "Female  1               75\n",
      "        0               37\n",
      "Male    1              347\n",
      "        0              155\n",
      "Name: Loan_Status, dtype: int64\n"
     ]
    }
   ],
   "source": [
    "#Exploring applicant income vs loan_status\n",
    "#Gender vs loan_status\n",
    "sns.countplot(x='Gender',hue='Loan_Status',data=loan)\n",
    "plt.title('Loan status a/c to gender')\n",
    "plt.xlabel('Gender')\n",
    "plt.ylabel('Counting the people')\n",
    "plt.show()\n",
    "\n",
    "print(loan.groupby('Gender')['Loan_Status'].value_counts())"
   ]
  },
  {
   "cell_type": "markdown",
   "metadata": {},
   "source": [
    "Observation-75 females got loan and 37 female did not get the loan.Similarly,347 male got the loan and 155 did not get the loan."
   ]
  },
  {
   "cell_type": "code",
   "execution_count": 88,
   "metadata": {},
   "outputs": [
    {
     "data": {
      "image/png": "[encoded data removed]",
      "text/plain": [
       "<Figure size 432x288 with 1 Axes>"
      ]
     },
     "metadata": {
      "needs_background": "light"
     },
     "output_type": "display_data"
    },
    {
     "name": "stdout",
     "output_type": "stream",
     "text": [
      "Education     Loan_Status\n",
      "Graduate      1              340\n",
      "              0              140\n",
      "Not Graduate  1               82\n",
      "              0               52\n",
      "Name: Loan_Status, dtype: int64\n"
     ]
    }
   ],
   "source": [
    "#Education vs Loan_Status\n",
    "sns.countplot(x='Education',hue='Loan_Status',data=loan)\n",
    "plt.title('Education a/c to gender')\n",
    "plt.xlabel('Education')\n",
    "plt.ylabel('Counting the people')\n",
    "plt.show()\n",
    "\n",
    "print(loan.groupby('Education')['Loan_Status'].value_counts())"
   ]
  },
  {
   "cell_type": "markdown",
   "metadata": {},
   "source": [
    "Observation- Number of graduates who got the loan is 340 and who did not get the loan is 140.\n",
    "            Number of non-graduates who got the loan is 82 and who did not get the loan is 52."
   ]
  },
  {
   "cell_type": "markdown",
   "metadata": {},
   "source": [
    "### Checking Skewness"
   ]
  },
  {
   "cell_type": "code",
   "execution_count": 89,
   "metadata": {},
   "outputs": [
    {
     "data": {
      "image/png": "[encoded data removed]",
      "text/plain": [
       "<Figure size 432x288 with 1 Axes>"
      ]
     },
     "metadata": {
      "needs_background": "light"
     },
     "output_type": "display_data"
    },
    {
     "data": {
      "image/png": "[encoded data removed]",
      "text/plain": [
       "<Figure size 432x288 with 1 Axes>"
      ]
     },
     "metadata": {
      "needs_background": "light"
     },
     "output_type": "display_data"
    },
    {
     "data": {
      "image/png": "[encoded data removed]",
      "text/plain": [
       "<Figure size 432x288 with 1 Axes>"
      ]
     },
     "metadata": {
      "needs_background": "light"
     },
     "output_type": "display_data"
    },
    {
     "data": {
      "image/png": "[encoded data removed]",
      "text/plain": [
       "<Figure size 432x288 with 1 Axes>"
      ]
     },
     "metadata": {
      "needs_background": "light"
     },
     "output_type": "display_data"
    },
    {
     "data": {
      "image/png": "[encoded data removed]",
      "text/plain": [
       "<Figure size 432x288 with 1 Axes>"
      ]
     },
     "metadata": {
      "needs_background": "light"
     },
     "output_type": "display_data"
    },
    {
     "data": {
      "image/png": "[encoded data removed]",
      "text/plain": [
       "<Figure size 432x288 with 1 Axes>"
      ]
     },
     "metadata": {
      "needs_background": "light"
     },
     "output_type": "display_data"
    }
   ],
   "source": [
    "for col in loan.describe().columns:\n",
    "    sns.distplot(loan[col],color='b')\n",
    "    plt.show()"
   ]
  },
  {
   "cell_type": "code",
   "execution_count": 90,
   "metadata": {},
   "outputs": [
    {
     "data": {
      "text/plain": [
       "ApplicantIncome      6.539513\n",
       "CoapplicantIncome    7.491531\n",
       "LoanAmount           2.726601\n",
       "Loan_Amount_Term    -2.402112\n",
       "Credit_History      -1.963600\n",
       "Loan_Status         -0.809998\n",
       "dtype: float64"
      ]
     },
     "execution_count": 90,
     "metadata": {},
     "output_type": "execute_result"
    }
   ],
   "source": [
    "loan.skew()"
   ]
  },
  {
   "cell_type": "code",
   "execution_count": 91,
   "metadata": {},
   "outputs": [],
   "source": [
    "#Removing skewness by applying sqrt and cbrt \n",
    "loan.skew()\n",
    "for col in loan.skew().index:\n",
    "    if col in loan.describe().columns:\n",
    "        if loan[col].skew()>0.55:\n",
    "            loan[col]=np.sqrt(loan[col])\n",
    "        if loan[col].skew()<0.55:\n",
    "            loan[col]=np.cbrt(loan[col])"
   ]
  },
  {
   "cell_type": "markdown",
   "metadata": {},
   "source": [
    "### Changing categorical variable into numeric variable"
   ]
  },
  {
   "cell_type": "code",
   "execution_count": 100,
   "metadata": {},
   "outputs": [],
   "source": [
    "from sklearn.preprocessing import LabelEncoder\n",
    "le=LabelEncoder()\n",
    "loan['Loan_ID']=le.fit_transform(loan['Loan_ID'])\n",
    "loan['Gender']=le.fit_transform(loan['Gender'])\n",
    "loan['Married']=le.fit_transform(loan['Married'])\n",
    "loan['Education']=le.fit_transform(loan['Education'])\n",
    "loan['Self_Employed']=le.fit_transform(loan['Self_Employed'])\n",
    "loan['Property_Area']=le.fit_transform(loan['Property_Area'])\n"
   ]
  },
  {
   "cell_type": "code",
   "execution_count": 103,
   "metadata": {},
   "outputs": [],
   "source": [
    "loan['Dependents']=le.fit_transform(loan['Dependents'])"
   ]
  },
  {
   "cell_type": "code",
   "execution_count": 104,
   "metadata": {},
   "outputs": [
    {
     "data": {
      "text/html": [
       "<div>\n",
       "<style scoped>\n",
       "    .dataframe tbody tr th:only-of-type {\n",
       "        vertical-align: middle;\n",
       "    }\n",
       "\n",
       "    .dataframe tbody tr th {\n",
       "        vertical-align: top;\n",
       "    }\n",
       "\n",
       "    .dataframe thead th {\n",
       "        text-align: right;\n",
       "    }\n",
       "</style>\n",
       "<table border=\"1\" class=\"dataframe\">\n",
       "  <thead>\n",
       "    <tr style=\"text-align: right;\">\n",
       "      <th></th>\n",
       "      <th>Loan_ID</th>\n",
       "      <th>Gender</th>\n",
       "      <th>Married</th>\n",
       "      <th>Dependents</th>\n",
       "      <th>Education</th>\n",
       "      <th>Self_Employed</th>\n",
       "      <th>ApplicantIncome</th>\n",
       "      <th>CoapplicantIncome</th>\n",
       "      <th>LoanAmount</th>\n",
       "      <th>Loan_Amount_Term</th>\n",
       "      <th>Credit_History</th>\n",
       "      <th>Property_Area</th>\n",
       "      <th>Loan_Status</th>\n",
       "    </tr>\n",
       "  </thead>\n",
       "  <tbody>\n",
       "    <tr>\n",
       "      <th>0</th>\n",
       "      <td>0</td>\n",
       "      <td>1</td>\n",
       "      <td>0</td>\n",
       "      <td>0</td>\n",
       "      <td>0</td>\n",
       "      <td>0</td>\n",
       "      <td>76.478755</td>\n",
       "      <td>0.000000</td>\n",
       "      <td>12.100089</td>\n",
       "      <td>7.113787</td>\n",
       "      <td>1.0</td>\n",
       "      <td>2</td>\n",
       "      <td>1.0</td>\n",
       "    </tr>\n",
       "    <tr>\n",
       "      <th>1</th>\n",
       "      <td>1</td>\n",
       "      <td>1</td>\n",
       "      <td>1</td>\n",
       "      <td>1</td>\n",
       "      <td>0</td>\n",
       "      <td>0</td>\n",
       "      <td>67.697858</td>\n",
       "      <td>38.832976</td>\n",
       "      <td>11.313708</td>\n",
       "      <td>7.113787</td>\n",
       "      <td>1.0</td>\n",
       "      <td>0</td>\n",
       "      <td>0.0</td>\n",
       "    </tr>\n",
       "    <tr>\n",
       "      <th>2</th>\n",
       "      <td>2</td>\n",
       "      <td>1</td>\n",
       "      <td>1</td>\n",
       "      <td>0</td>\n",
       "      <td>0</td>\n",
       "      <td>1</td>\n",
       "      <td>54.772256</td>\n",
       "      <td>0.000000</td>\n",
       "      <td>8.124038</td>\n",
       "      <td>7.113787</td>\n",
       "      <td>1.0</td>\n",
       "      <td>2</td>\n",
       "      <td>1.0</td>\n",
       "    </tr>\n",
       "    <tr>\n",
       "      <th>3</th>\n",
       "      <td>3</td>\n",
       "      <td>1</td>\n",
       "      <td>1</td>\n",
       "      <td>0</td>\n",
       "      <td>1</td>\n",
       "      <td>0</td>\n",
       "      <td>50.823223</td>\n",
       "      <td>48.559242</td>\n",
       "      <td>10.954451</td>\n",
       "      <td>7.113787</td>\n",
       "      <td>1.0</td>\n",
       "      <td>2</td>\n",
       "      <td>1.0</td>\n",
       "    </tr>\n",
       "    <tr>\n",
       "      <th>4</th>\n",
       "      <td>4</td>\n",
       "      <td>1</td>\n",
       "      <td>0</td>\n",
       "      <td>0</td>\n",
       "      <td>0</td>\n",
       "      <td>0</td>\n",
       "      <td>77.459667</td>\n",
       "      <td>0.000000</td>\n",
       "      <td>11.874342</td>\n",
       "      <td>7.113787</td>\n",
       "      <td>1.0</td>\n",
       "      <td>2</td>\n",
       "      <td>1.0</td>\n",
       "    </tr>\n",
       "  </tbody>\n",
       "</table>\n",
       "</div>"
      ],
      "text/plain": [
       "   Loan_ID  Gender  Married  Dependents  Education  Self_Employed  \\\n",
       "0        0       1        0           0          0              0   \n",
       "1        1       1        1           1          0              0   \n",
       "2        2       1        1           0          0              1   \n",
       "3        3       1        1           0          1              0   \n",
       "4        4       1        0           0          0              0   \n",
       "\n",
       "   ApplicantIncome  CoapplicantIncome  LoanAmount  Loan_Amount_Term  \\\n",
       "0        76.478755           0.000000   12.100089          7.113787   \n",
       "1        67.697858          38.832976   11.313708          7.113787   \n",
       "2        54.772256           0.000000    8.124038          7.113787   \n",
       "3        50.823223          48.559242   10.954451          7.113787   \n",
       "4        77.459667           0.000000   11.874342          7.113787   \n",
       "\n",
       "   Credit_History  Property_Area  Loan_Status  \n",
       "0             1.0              2          1.0  \n",
       "1             1.0              0          0.0  \n",
       "2             1.0              2          1.0  \n",
       "3             1.0              2          1.0  \n",
       "4             1.0              2          1.0  "
      ]
     },
     "execution_count": 104,
     "metadata": {},
     "output_type": "execute_result"
    }
   ],
   "source": [
    "loan.head()"
   ]
  },
  {
   "cell_type": "code",
   "execution_count": 105,
   "metadata": {},
   "outputs": [
    {
     "data": {
      "text/plain": [
       "Loan_ID                int64\n",
       "Gender                 int64\n",
       "Married                int64\n",
       "Dependents             int32\n",
       "Education              int64\n",
       "Self_Employed          int64\n",
       "ApplicantIncome      float64\n",
       "CoapplicantIncome    float64\n",
       "LoanAmount           float64\n",
       "Loan_Amount_Term     float64\n",
       "Credit_History       float64\n",
       "Property_Area          int64\n",
       "Loan_Status          float64\n",
       "dtype: object"
      ]
     },
     "execution_count": 105,
     "metadata": {},
     "output_type": "execute_result"
    }
   ],
   "source": [
    "loan.dtypes"
   ]
  },
  {
   "cell_type": "markdown",
   "metadata": {},
   "source": [
    "### Plotting Outliers"
   ]
  },
  {
   "cell_type": "code",
   "execution_count": 94,
   "metadata": {},
   "outputs": [
    {
     "data": {
      "text/plain": [
       "<AxesSubplot:>"
      ]
     },
     "execution_count": 94,
     "metadata": {},
     "output_type": "execute_result"
    },
    {
     "data": {
      "image/png": "[encoded data removed]",
      "text/plain": [
       "<Figure size 432x288 with 1 Axes>"
      ]
     },
     "metadata": {
      "needs_background": "light"
     },
     "output_type": "display_data"
    }
   ],
   "source": [
    "loan['ApplicantIncome'].plot.box()"
   ]
  },
  {
   "cell_type": "code",
   "execution_count": 95,
   "metadata": {},
   "outputs": [
    {
     "data": {
      "text/plain": [
       "<AxesSubplot:>"
      ]
     },
     "execution_count": 95,
     "metadata": {},
     "output_type": "execute_result"
    },
    {
     "data": {
      "image/png": "[encoded data removed]",
      "text/plain": [
       "<Figure size 432x288 with 1 Axes>"
      ]
     },
     "metadata": {
      "needs_background": "light"
     },
     "output_type": "display_data"
    }
   ],
   "source": [
    "loan['CoapplicantIncome'].plot.box()"
   ]
  },
  {
   "cell_type": "code",
   "execution_count": 96,
   "metadata": {},
   "outputs": [
    {
     "data": {
      "text/plain": [
       "<AxesSubplot:>"
      ]
     },
     "execution_count": 96,
     "metadata": {},
     "output_type": "execute_result"
    },
    {
     "data": {
      "image/png": "[encoded data removed]",
      "text/plain": [
       "<Figure size 432x288 with 1 Axes>"
      ]
     },
     "metadata": {
      "needs_background": "light"
     },
     "output_type": "display_data"
    }
   ],
   "source": [
    "loan['LoanAmount'].plot.box()"
   ]
  },
  {
   "cell_type": "code",
   "execution_count": 97,
   "metadata": {},
   "outputs": [
    {
     "data": {
      "text/plain": [
       "<AxesSubplot:>"
      ]
     },
     "execution_count": 97,
     "metadata": {},
     "output_type": "execute_result"
    },
    {
     "data": {
      "image/png": "[encoded data removed]",
      "text/plain": [
       "<Figure size 432x288 with 1 Axes>"
      ]
     },
     "metadata": {
      "needs_background": "light"
     },
     "output_type": "display_data"
    }
   ],
   "source": [
    "loan['Loan_Amount_Term'].plot.box()"
   ]
  },
  {
   "cell_type": "code",
   "execution_count": 99,
   "metadata": {},
   "outputs": [
    {
     "data": {
      "text/plain": [
       "Loan_ID                int32\n",
       "Gender                 int32\n",
       "Married                int32\n",
       "Dependents            object\n",
       "Education              int32\n",
       "Self_Employed          int32\n",
       "ApplicantIncome      float64\n",
       "CoapplicantIncome    float64\n",
       "LoanAmount           float64\n",
       "Loan_Amount_Term     float64\n",
       "Credit_History       float64\n",
       "Property_Area          int32\n",
       "Loan_Status          float64\n",
       "dtype: object"
      ]
     },
     "execution_count": 99,
     "metadata": {},
     "output_type": "execute_result"
    }
   ],
   "source": [
    "loan.dtypes"
   ]
  },
  {
   "cell_type": "code",
   "execution_count": 106,
   "metadata": {},
   "outputs": [],
   "source": [
    "#removing outliers\n",
    "from scipy.stats import zscore\n",
    "z=np.abs(zscore(loan))"
   ]
  },
  {
   "cell_type": "code",
   "execution_count": 107,
   "metadata": {},
   "outputs": [
    {
     "name": "stdout",
     "output_type": "stream",
     "text": [
      "(array([ 14,  68,  94, 126, 130, 133, 155, 155, 171, 171, 177, 183, 185,\n",
      "       242, 262, 278, 308, 313, 333, 333, 369, 402, 409, 417, 443, 487,\n",
      "       495, 497, 506, 523, 546, 561, 575, 581, 585, 600, 604], dtype=int64), array([9, 9, 9, 6, 8, 9, 6, 8, 6, 8, 8, 6, 6, 9, 9, 8, 8, 9, 6, 8, 8, 7,\n",
      "       6, 7, 6, 8, 9, 9, 8, 8, 9, 8, 9, 7, 9, 7, 8], dtype=int64))\n"
     ]
    }
   ],
   "source": [
    "threshold=3\n",
    "print(np.where(z>3))"
   ]
  },
  {
   "cell_type": "code",
   "execution_count": 108,
   "metadata": {},
   "outputs": [],
   "source": [
    "new_loan=loan[(z<3).all(axis=1)]"
   ]
  },
  {
   "cell_type": "code",
   "execution_count": 109,
   "metadata": {},
   "outputs": [
    {
     "data": {
      "text/plain": [
       "(580, 13)"
      ]
     },
     "execution_count": 109,
     "metadata": {},
     "output_type": "execute_result"
    }
   ],
   "source": [
    "new_loan.shape"
   ]
  },
  {
   "cell_type": "code",
   "execution_count": 110,
   "metadata": {},
   "outputs": [
    {
     "data": {
      "text/plain": [
       "(614, 13)"
      ]
     },
     "execution_count": 110,
     "metadata": {},
     "output_type": "execute_result"
    }
   ],
   "source": [
    "loan.shape"
   ]
  },
  {
   "cell_type": "markdown",
   "metadata": {},
   "source": [
    "All outliers are removed"
   ]
  },
  {
   "cell_type": "markdown",
   "metadata": {},
   "source": [
    "### Model Training"
   ]
  },
  {
   "cell_type": "code",
   "execution_count": 111,
   "metadata": {},
   "outputs": [],
   "source": [
    "X=new_loan.drop(columns=['Loan_Status'],axis=1)\n",
    "y=new_loan['Loan_Status']"
   ]
  },
  {
   "cell_type": "code",
   "execution_count": 113,
   "metadata": {},
   "outputs": [],
   "source": [
    "from sklearn.preprocessing import StandardScaler\n",
    "sc=StandardScaler()\n",
    "X=sc.fit_transform(X)"
   ]
  },
  {
   "cell_type": "code",
   "execution_count": 116,
   "metadata": {},
   "outputs": [],
   "source": [
    "from sklearn.model_selection import train_test_split\n",
    "X_train,X_test,y_train,y_test=train_test_split(X,y,test_size=.20,random_state=42,stratify=y)"
   ]
  },
  {
   "cell_type": "code",
   "execution_count": 118,
   "metadata": {},
   "outputs": [],
   "source": [
    "#importing all the model libraries\n",
    "from sklearn.linear_model import LogisticRegression\n",
    "from sklearn.naive_bayes import GaussianNB\n",
    "from sklearn.svm import SVC\n",
    "from sklearn.tree import DecisionTreeClassifier\n",
    "from sklearn.neighbors import KNeighborsClassifier\n",
    "#import boosting libraries\n",
    "from sklearn.ensemble import RandomForestClassifier\n",
    "from sklearn.ensemble import AdaBoostClassifier\n",
    "from sklearn.ensemble import GradientBoostingClassifier\n",
    "#importing error metrix\n",
    "from sklearn.metrics import accuracy_score,classification_report,confusion_matrix\n",
    "from sklearn.model_selection import GridSearchCV,cross_val_score\n"
   ]
  },
  {
   "cell_type": "code",
   "execution_count": 119,
   "metadata": {},
   "outputs": [
    {
     "name": "stdout",
     "output_type": "stream",
     "text": [
      "accuracy score of LogisticRegression() is=\n",
      "0.8620689655172413\n",
      "[[21 15]\n",
      " [ 1 79]]\n",
      "              precision    recall  f1-score   support\n",
      "\n",
      "         0.0       0.95      0.58      0.72        36\n",
      "         1.0       0.84      0.99      0.91        80\n",
      "\n",
      "    accuracy                           0.86       116\n",
      "   macro avg       0.90      0.79      0.82       116\n",
      "weighted avg       0.88      0.86      0.85       116\n",
      "\n",
      "************************************************************************************\n",
      "/n\n",
      "accuracy score of GaussianNB() is=\n",
      "0.8620689655172413\n",
      "[[21 15]\n",
      " [ 1 79]]\n",
      "              precision    recall  f1-score   support\n",
      "\n",
      "         0.0       0.95      0.58      0.72        36\n",
      "         1.0       0.84      0.99      0.91        80\n",
      "\n",
      "    accuracy                           0.86       116\n",
      "   macro avg       0.90      0.79      0.82       116\n",
      "weighted avg       0.88      0.86      0.85       116\n",
      "\n",
      "************************************************************************************\n",
      "/n\n",
      "accuracy score of SVC() is=\n",
      "0.8620689655172413\n",
      "[[21 15]\n",
      " [ 1 79]]\n",
      "              precision    recall  f1-score   support\n",
      "\n",
      "         0.0       0.95      0.58      0.72        36\n",
      "         1.0       0.84      0.99      0.91        80\n",
      "\n",
      "    accuracy                           0.86       116\n",
      "   macro avg       0.90      0.79      0.82       116\n",
      "weighted avg       0.88      0.86      0.85       116\n",
      "\n",
      "************************************************************************************\n",
      "/n\n",
      "accuracy score of DecisionTreeClassifier() is=\n",
      "0.8017241379310345\n",
      "[[23 13]\n",
      " [10 70]]\n",
      "              precision    recall  f1-score   support\n",
      "\n",
      "         0.0       0.70      0.64      0.67        36\n",
      "         1.0       0.84      0.88      0.86        80\n",
      "\n",
      "    accuracy                           0.80       116\n",
      "   macro avg       0.77      0.76      0.76       116\n",
      "weighted avg       0.80      0.80      0.80       116\n",
      "\n",
      "************************************************************************************\n",
      "/n\n",
      "accuracy score of KNeighborsClassifier() is=\n",
      "0.8448275862068966\n",
      "[[20 16]\n",
      " [ 2 78]]\n",
      "              precision    recall  f1-score   support\n",
      "\n",
      "         0.0       0.91      0.56      0.69        36\n",
      "         1.0       0.83      0.97      0.90        80\n",
      "\n",
      "    accuracy                           0.84       116\n",
      "   macro avg       0.87      0.77      0.79       116\n",
      "weighted avg       0.85      0.84      0.83       116\n",
      "\n",
      "************************************************************************************\n",
      "/n\n",
      "accuracy score of RandomForestClassifier() is=\n",
      "0.8448275862068966\n",
      "[[21 15]\n",
      " [ 3 77]]\n",
      "              precision    recall  f1-score   support\n",
      "\n",
      "         0.0       0.88      0.58      0.70        36\n",
      "         1.0       0.84      0.96      0.90        80\n",
      "\n",
      "    accuracy                           0.84       116\n",
      "   macro avg       0.86      0.77      0.80       116\n",
      "weighted avg       0.85      0.84      0.83       116\n",
      "\n",
      "************************************************************************************\n",
      "/n\n",
      "accuracy score of AdaBoostClassifier() is=\n",
      "0.8275862068965517\n",
      "[[20 16]\n",
      " [ 4 76]]\n",
      "              precision    recall  f1-score   support\n",
      "\n",
      "         0.0       0.83      0.56      0.67        36\n",
      "         1.0       0.83      0.95      0.88        80\n",
      "\n",
      "    accuracy                           0.83       116\n",
      "   macro avg       0.83      0.75      0.78       116\n",
      "weighted avg       0.83      0.83      0.82       116\n",
      "\n",
      "************************************************************************************\n",
      "/n\n",
      "accuracy score of GradientBoostingClassifier() is=\n",
      "0.8362068965517241\n",
      "[[22 14]\n",
      " [ 5 75]]\n",
      "              precision    recall  f1-score   support\n",
      "\n",
      "         0.0       0.81      0.61      0.70        36\n",
      "         1.0       0.84      0.94      0.89        80\n",
      "\n",
      "    accuracy                           0.84       116\n",
      "   macro avg       0.83      0.77      0.79       116\n",
      "weighted avg       0.83      0.84      0.83       116\n",
      "\n",
      "************************************************************************************\n",
      "/n\n"
     ]
    }
   ],
   "source": [
    "model=[LogisticRegression(),GaussianNB(),SVC(),DecisionTreeClassifier(),KNeighborsClassifier(),RandomForestClassifier(),\n",
    "      AdaBoostClassifier(),GradientBoostingClassifier()]\n",
    "for m in model:\n",
    "    m.fit(X_train,y_train)\n",
    "    m.score(X_train,y_train)\n",
    "    predm=m.predict(X_test)\n",
    "    print(\"accuracy score of\",m,\"is=\")\n",
    "    print(accuracy_score(y_test,predm))\n",
    "    print(confusion_matrix(y_test,predm))\n",
    "    print(classification_report(y_test,predm))\n",
    "    print('************************************************************************************')\n",
    "    print('/n')"
   ]
  },
  {
   "cell_type": "markdown",
   "metadata": {},
   "source": [
    "### LogisticRegression has the best accuracy score amongst all,I am going with that algorithm."
   ]
  },
  {
   "cell_type": "code",
   "execution_count": 120,
   "metadata": {},
   "outputs": [
    {
     "name": "stdout",
     "output_type": "stream",
     "text": [
      "{'C': 1, 'random_state': 42}\n"
     ]
    }
   ],
   "source": [
    "#find best parameters\n",
    "parameters={'C':[1,10],'random_state':range(42,100)}\n",
    "lg=LogisticRegression()\n",
    "clf=GridSearchCV(lg,parameters)\n",
    "clf.fit(X,y)\n",
    "print(clf.best_params_)"
   ]
  },
  {
   "cell_type": "code",
   "execution_count": 123,
   "metadata": {},
   "outputs": [
    {
     "name": "stdout",
     "output_type": "stream",
     "text": [
      "[[21 15]\n",
      " [ 1 79]]\n",
      "0.8620689655172413\n",
      "              precision    recall  f1-score   support\n",
      "\n",
      "         0.0       0.95      0.58      0.72        36\n",
      "         1.0       0.84      0.99      0.91        80\n",
      "\n",
      "    accuracy                           0.86       116\n",
      "   macro avg       0.90      0.79      0.82       116\n",
      "weighted avg       0.88      0.86      0.85       116\n",
      "\n"
     ]
    }
   ],
   "source": [
    "lg=LogisticRegression(C=1,random_state=42)\n",
    "lg.fit(X_train,y_train)\n",
    "lg.score(X_train,y_train)\n",
    "predlg=lg.predict(X_test)\n",
    "print(confusion_matrix(y_test,predlg))\n",
    "print(accuracy_score(y_test,predlg))\n",
    "print(classification_report(y_test,predlg))"
   ]
  },
  {
   "cell_type": "code",
   "execution_count": 124,
   "metadata": {},
   "outputs": [
    {
     "name": "stdout",
     "output_type": "stream",
     "text": [
      "[0.82474227 0.77319588 0.78350515 0.81443299 0.85416667 0.84375   ]\n",
      "0.8156321592210768\n",
      "0.029419199674550565\n"
     ]
    }
   ],
   "source": [
    "#cvs score for logisticregression\n",
    "cvs_score=cross_val_score(lg,X,y,cv=6,scoring='accuracy')\n",
    "print(cvs_score)\n",
    "print(cvs_score.mean())\n",
    "print(cvs_score.std())"
   ]
  },
  {
   "cell_type": "code",
   "execution_count": 126,
   "metadata": {},
   "outputs": [
    {
     "data": {
      "image/png": "[encoded data removed]",
      "text/plain": [
       "<Figure size 432x288 with 1 Axes>"
      ]
     },
     "metadata": {
      "needs_background": "light"
     },
     "output_type": "display_data"
    },
    {
     "name": "stdout",
     "output_type": "stream",
     "text": [
      "0.7854166666666667\n"
     ]
    }
   ],
   "source": [
    "#auc-roc curve\n",
    "from sklearn.metrics import roc_curve\n",
    "from sklearn.metrics import roc_auc_score\n",
    "predlg_proba=lg.predict_proba(X_test)[:1]\n",
    "fpr,tpr,threshhold=roc_curve(y_test,predlg)\n",
    "plt.plot([0,1],[0,1],'k--')\n",
    "plt.plot(fpr,tpr,label='LogisticRegression')\n",
    "plt.xlabel('False Positive Rate')\n",
    "plt.ylabel('True Positive Rate')\n",
    "plt.show()\n",
    "\n",
    "auc_score=roc_auc_score(y_test,predlg)\n",
    "print(auc_score)"
   ]
  },
  {
   "cell_type": "code",
   "execution_count": 127,
   "metadata": {},
   "outputs": [],
   "source": [
    "import pickle\n",
    "filename='loan_application_status.pkl'\n",
    "pickle.dump(lg,open(filename,\"wb\"))"
   ]
  },
  {
   "cell_type": "code",
   "execution_count": 128,
   "metadata": {},
   "outputs": [],
   "source": [
    "a=np.array(y_test)"
   ]
  },
  {
   "cell_type": "code",
   "execution_count": 129,
   "metadata": {},
   "outputs": [],
   "source": [
    "predicted=np.array(lg.predict(X_test))"
   ]
  },
  {
   "cell_type": "code",
   "execution_count": 131,
   "metadata": {},
   "outputs": [],
   "source": [
    "Loan_status=pd.DataFrame({\"original loan status\":a,\"Predicted Loan Status\":predicted},index=range(len(a)))"
   ]
  },
  {
   "cell_type": "code",
   "execution_count": 132,
   "metadata": {},
   "outputs": [
    {
     "data": {
      "text/html": [
       "<div>\n",
       "<style scoped>\n",
       "    .dataframe tbody tr th:only-of-type {\n",
       "        vertical-align: middle;\n",
       "    }\n",
       "\n",
       "    .dataframe tbody tr th {\n",
       "        vertical-align: top;\n",
       "    }\n",
       "\n",
       "    .dataframe thead th {\n",
       "        text-align: right;\n",
       "    }\n",
       "</style>\n",
       "<table border=\"1\" class=\"dataframe\">\n",
       "  <thead>\n",
       "    <tr style=\"text-align: right;\">\n",
       "      <th></th>\n",
       "      <th>original loan status</th>\n",
       "      <th>Predicted Loan Status</th>\n",
       "    </tr>\n",
       "  </thead>\n",
       "  <tbody>\n",
       "    <tr>\n",
       "      <th>0</th>\n",
       "      <td>0.0</td>\n",
       "      <td>0.0</td>\n",
       "    </tr>\n",
       "    <tr>\n",
       "      <th>1</th>\n",
       "      <td>1.0</td>\n",
       "      <td>1.0</td>\n",
       "    </tr>\n",
       "    <tr>\n",
       "      <th>2</th>\n",
       "      <td>1.0</td>\n",
       "      <td>1.0</td>\n",
       "    </tr>\n",
       "    <tr>\n",
       "      <th>3</th>\n",
       "      <td>1.0</td>\n",
       "      <td>1.0</td>\n",
       "    </tr>\n",
       "    <tr>\n",
       "      <th>4</th>\n",
       "      <td>1.0</td>\n",
       "      <td>1.0</td>\n",
       "    </tr>\n",
       "    <tr>\n",
       "      <th>...</th>\n",
       "      <td>...</td>\n",
       "      <td>...</td>\n",
       "    </tr>\n",
       "    <tr>\n",
       "      <th>111</th>\n",
       "      <td>1.0</td>\n",
       "      <td>1.0</td>\n",
       "    </tr>\n",
       "    <tr>\n",
       "      <th>112</th>\n",
       "      <td>1.0</td>\n",
       "      <td>1.0</td>\n",
       "    </tr>\n",
       "    <tr>\n",
       "      <th>113</th>\n",
       "      <td>0.0</td>\n",
       "      <td>1.0</td>\n",
       "    </tr>\n",
       "    <tr>\n",
       "      <th>114</th>\n",
       "      <td>1.0</td>\n",
       "      <td>0.0</td>\n",
       "    </tr>\n",
       "    <tr>\n",
       "      <th>115</th>\n",
       "      <td>1.0</td>\n",
       "      <td>1.0</td>\n",
       "    </tr>\n",
       "  </tbody>\n",
       "</table>\n",
       "<p>116 rows × 2 columns</p>\n",
       "</div>"
      ],
      "text/plain": [
       "     original loan status  Predicted Loan Status\n",
       "0                     0.0                    0.0\n",
       "1                     1.0                    1.0\n",
       "2                     1.0                    1.0\n",
       "3                     1.0                    1.0\n",
       "4                     1.0                    1.0\n",
       "..                    ...                    ...\n",
       "111                   1.0                    1.0\n",
       "112                   1.0                    1.0\n",
       "113                   0.0                    1.0\n",
       "114                   1.0                    0.0\n",
       "115                   1.0                    1.0\n",
       "\n",
       "[116 rows x 2 columns]"
      ]
     },
     "execution_count": 132,
     "metadata": {},
     "output_type": "execute_result"
    }
   ],
   "source": [
    "Loan_status"
   ]
  },
  {
   "cell_type": "code",
   "execution_count": null,
   "metadata": {},
   "outputs": [],
   "source": []
  }
 ],
 "metadata": {
  "kernelspec": {
   "display_name": "Python 3",
   "language": "python",
   "name": "python3"
  },
  "language_info": {
   "codemirror_mode": {
    "name": "ipython",
    "version": 3
   },
   "file_extension": ".py",
   "mimetype": "text/x-python",
   "name": "python",
   "nbconvert_exporter": "python",
   "pygments_lexer": "ipython3",
   "version": "3.8.5"
  }
 },
 "nbformat": 4,
 "nbformat_minor": 4
}
